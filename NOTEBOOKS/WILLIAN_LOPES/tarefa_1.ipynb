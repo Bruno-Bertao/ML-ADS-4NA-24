{
 "cells": [
  {
   "cell_type": "markdown",
   "id": "991eb7b0-5365-4e11-8e9a-f481255c6c51",
   "metadata": {},
   "source": [
    "\n",
    "<h1>Sobre a atividade: </h1>\n",
    "\n",
    "**O professor Miguel pediu para criarmos um código que pudesse retornar os seguintes dados:**\n",
    "\n",
    "1. Valor máximo\n",
    "2. Valor mínimo\n",
    "3. Média aritimética\n",
    "4. Mediana dos valores\n",
    "5. Desvio padrão dos valores\n",
    "---"
   ]
  },
  {
   "cell_type": "markdown",
   "id": "1ea8ca31-a3b5-427d-affb-dae13b49e7fc",
   "metadata": {},
   "source": [
    "**Informações relevantes:**\n",
    "<p>Os dados fornecidos pelo professor Miguel para a realização da atividade, estão orginalmente em Python. Mas para a execução deste trabalho, será convertido em C#, que será a linguagem usada.</p>\n",
    "\n",
    "**Dados:**\n",
    "\n",
    "valores = [4, 6, 3, 4, 5, 8, 4, 2]\n",
    "\n",
    "---"
   ]
  },
  {
   "cell_type": "markdown",
   "id": "dcdec750-6fea-4e1a-a016-5fdc2a380b5a",
   "metadata": {},
   "source": [
    "\n",
    "<p>Para iniciar a atividade, comecei iniciando a lista com os valores fornecidos e declarando as variáveis.</p>"
   ]
  },
  {
   "cell_type": "code",
   "execution_count": 3,
   "id": "f03985b1-e838-41cb-b214-e982b01268f9",
   "metadata": {},
   "outputs": [],
   "source": [
    " List<int> Valores = new List<int> { 4, 6, 3, 4, 5, 8, 4, 2 }; \n",
    "\n",
    " int valorMax = Valores.Max();\n",
    " int valorMin = Valores.Min();\n",
    " double media = Valores.Average();"
   ]
  },
  {
   "cell_type": "markdown",
   "id": "d2a77e0f-060e-40f9-b3de-a7825facdc37",
   "metadata": {},
   "source": [
    "<p>No código acima, é possível notar que as variáveis estão recebendo dados da lista \"Valores\" com a ajuda de alguns métodos, sendo eles: </p>\n",
    "\n",
    "**Max():** O método Max() retorna o maior valor da lista \"Valores\".\n",
    "\n",
    "**Min():** O método Min() retorna o menor valor da lista \"Valores\".\n",
    "\n",
    "**Average():** O método Average() retorna a média entre os valores da lista \"Valores\".\n",
    "\n",
    "*Todos esses métodos fazem parte do **LINQ** (Language Integrad Query), que ainda estou estudando, mas decidi implementar pra facilitar minha vida*\n",
    "\n",
    "---"
   ]
  },
  {
   "cell_type": "code",
   "execution_count": 9,
   "id": "9d685fec-6b01-4201-bb12-09933858a772",
   "metadata": {},
   "outputs": [
    {
     "name": "stdout",
     "output_type": "stream",
     "text": [
      "O valor máximo é 8, o mínimo é 2 e a média é 4,50\n"
     ]
    }
   ],
   "source": [
    "Console.WriteLine($\"O valor máximo é {valorMax}, o mínimo é {valorMin} e a média é {media:F2}\");"
   ]
  },
  {
   "cell_type": "markdown",
   "id": "71677396-5d38-41e4-a4cc-e4edbdfb4c36",
   "metadata": {},
   "source": [
    "O código acima vai imprimir os valores das variáveis usando o princípio da **Interpolação**, com destaque para formatação na variável \"media\", que irá imprimir números com no máximo duas casa decimais.\n",
    "\n",
    "---"
   ]
  },
  {
   "cell_type": "code",
   "execution_count": 5,
   "id": "caf96716-f381-4a68-9159-d7c5f12eb492",
   "metadata": {
    "scrolled": true
   },
   "outputs": [],
   "source": [
    "var ListOrder = Valores.OrderBy(n => n).ToList();\n",
    "\n",
    "int count = ListOrder.Count();"
   ]
  },
  {
   "cell_type": "markdown",
   "id": "b5c3093b-2453-426a-9eca-0351df12e81c",
   "metadata": {},
   "source": [
    "Nessa parte do código, criei uma variável chamada ListOrder que irá receber os valores da lista em ordem crescente através do metódo \"**orderBy()**\", e depois será tranformada no tipo \"list\", através do método \"**ToList()**\". Após isso, também declaramos uma variável count, que receberá o valor que representa quantidade total de elementos dentro da nossa lista.\n",
    "\n",
    "---"
   ]
  },
  {
   "cell_type": "code",
   "execution_count": null,
   "id": "37c54a21-015f-4ebc-8aae-7afadc13fdec",
   "metadata": {},
   "outputs": [],
   "source": [
    "foreach (int i in ListOrder) {\n",
    "    Console.Write($\" {i}\");\n",
    "}"
   ]
  },
  {
   "cell_type": "markdown",
   "id": "38ff966b-20d1-4d78-897c-327d0fe09eaf",
   "metadata": {},
   "source": [
    "Aqui usei um **foreach** apenas para exibir lista organizada em ordem crescente.\n",
    "\n",
    "---"
   ]
  },
  {
   "cell_type": "markdown",
   "id": "f1419295-841a-48e2-a1b1-e7346765c01c",
   "metadata": {},
   "source": [
    "### Cálculo Mediana"
   ]
  },
  {
   "cell_type": "markdown",
   "id": "c2d1186d-08b4-40f7-8d69-ac2b868561aa",
   "metadata": {},
   "source": [
    "Essa parte do código foi um pouco complicada de fazer, precisei ver vídeos para tentar entender a lógica por trás do cálculo.\n",
    "\n",
    "**Vamos lá...**\n",
    "\n",
    "Esse trecho do código começa com a *inicialização direta* da variável \"mediana\", onde eu uso operadores ternários **(? :)** para fazer a lógica do calculo.\n",
    "\n",
    "**Funciona assim:**\n",
    "\n",
    "Para sabermos a mediana dos números na nossa Lista, precisamos saber quantos elementos ela possui. Como já criamos uma variável que armazena a quantidade de números nela, basta chamar essa variável e dividi-la por 2; se o resto for igual a 0, sabemos que a quantidade de elementos dentro da nossa lista corresponde a um número par, caso contrário, concluímos que é um número ímpar.\n",
    "\n",
    "**Código:**\n"
   ]
  },
  {
   "cell_type": "code",
   "execution_count": null,
   "id": "7015cf99-c387-425a-9491-4e74c2013630",
   "metadata": {},
   "outputs": [],
   "source": [
    "double mediana = (count % 2 == 0) ?\n",
    "    (ListOrder[count / 2 - 1] + ListOrder[count / 2]) / 2.0 :\n",
    "     ListOrder[count / 2];\n",
    "Console.WriteLine($\"Mediana: {mediana}\");"
   ]
  },
  {
   "cell_type": "markdown",
   "id": "2fe2fbac-a418-422a-a2ea-34d5b4bffb3e",
   "metadata": {},
   "source": [
    "**Inicialização:**\n",
    "Como dito anteriormente, usamos o princípio da \"Inicialização Direta\", onde a variável \"mediana\" é inicializada com o resultado de um expressão ternária.\n",
    "\n",
    "**Operador Ternário:**\n",
    "O operador ternário **(? :)** tem uma lógica parecida com o **If/Else**, onde ele toma decisões com base em uma condição.\n",
    "Podemos ver o operador agindo no código acima, onde ele verifica se(?) o valor da expressão **[count % 2 == 0]** é verdadeiro. Ser for verdadeiro, ele vai executar o código que vem a seguir **[ListOrder[count / 2 - 1] + ListOrder[count / 2]]**, senao(:) ele passa para o código seguinte: **[ ListOrder[count / 2]]**"
   ]
  },
  {
   "cell_type": "code",
   "execution_count": null,
   "id": "582810f4-c546-4dbc-b394-c68dd30637b1",
   "metadata": {},
   "outputs": [],
   "source": []
  }
 ],
 "metadata": {
  "kernelspec": {
   "display_name": ".NET (C#)",
   "language": "C#",
   "name": ".net-csharp"
  },
  "language_info": {
   "file_extension": ".cs",
   "mimetype": "text/x-csharp",
   "name": "C#",
   "pygments_lexer": "csharp",
   "version": "12.0"
  }
 },
 "nbformat": 4,
 "nbformat_minor": 5
}
