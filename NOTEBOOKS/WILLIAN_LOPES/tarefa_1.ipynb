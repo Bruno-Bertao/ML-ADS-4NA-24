{
 "cells": [
  {
   "cell_type": "markdown",
   "id": "991eb7b0-5365-4e11-8e9a-f481255c6c51",
   "metadata": {},
   "source": [
    "\n",
    "<h1>Sobre a atividade: </h1>\n",
    "\n",
    "**O professor Miguel pediu para criarmos um código que pudesse retornar os seguintes dados:**\n",
    "\n",
    "1. Valor máximo\n",
    "2. Valor mínimo\n",
    "3. Média aritimética\n",
    "4. Mediana dos valores\n",
    "5. Desvio padrão dos valores\n",
    "---"
   ]
  },
  {
   "cell_type": "markdown",
   "id": "1ea8ca31-a3b5-427d-affb-dae13b49e7fc",
   "metadata": {},
   "source": [
    "**Informações relevantes:**\n",
    "<p>Os dados fornecidos pelo professor Miguel para a realização da atividade, estão orginalmente em Python. Mas para a execução deste trabalho, será convertido em C#, que será a linguagem usada.</p>\n",
    "\n",
    "**Dados:**\n",
    "\n",
    "valores = [4, 6, 3, 4, 5, 8, 4, 2]\n",
    "\n",
    "---"
   ]
  },
  {
   "cell_type": "markdown",
   "id": "dcdec750-6fea-4e1a-a016-5fdc2a380b5a",
   "metadata": {},
   "source": [
    "\n",
    "<p>Para iniciar a atividade, comecei iniciando a lista com os valores fornecidos e declarando as variáveis.</p>"
   ]
  },
  {
   "cell_type": "code",
   "execution_count": 8,
   "id": "f03985b1-e838-41cb-b214-e982b01268f9",
   "metadata": {},
   "outputs": [],
   "source": [
    " List<int> Valores = new List<int> { 4, 6, 3, 4, 5, 8, 4, 2 }; \n",
    "\n",
    " int valorMax = Valores.Max();\n",
    " int valorMin = Valores.Min();\n",
    " double media = Valores.Average();"
   ]
  },
  {
   "cell_type": "markdown",
   "id": "d2a77e0f-060e-40f9-b3de-a7825facdc37",
   "metadata": {},
   "source": [
    "<p>No código acima, é possível notar que as variáveis estão recebendo dados da lista \"Valores\" com a ajuda de alguns métodos, sendo eles: </p>\n",
    "\n",
    "**Max():** O método Max() retorna o maior valor da lista \"Valores\".\n",
    "\n",
    "**Min():** O método Min() retorna o menor valor da lista \"Valores\".\n",
    "\n",
    "**Average():** O método Average() retorna a média entre os valores da lista \"Valores\".\n",
    "\n",
    "*Todos esses métodos fazem parte do **LINQ** (Language Integrad Query), que ainda estou estudando, mas decidi implementar pra facilitar minha vida*\n",
    "\n",
    "---"
   ]
  },
  {
   "cell_type": "code",
   "execution_count": 9,
   "id": "9d685fec-6b01-4201-bb12-09933858a772",
   "metadata": {},
   "outputs": [
    {
     "name": "stdout",
     "output_type": "stream",
     "text": [
      "O valor máximo é 8, o mínimo é 2 e a média é 4,50\n"
     ]
    }
   ],
   "source": [
    "Console.WriteLine($\"O valor máximo é {valorMax}, o mínimo é {valorMin} e a média é {media:F2}\");"
   ]
  },
  {
   "cell_type": "markdown",
   "id": "71677396-5d38-41e4-a4cc-e4edbdfb4c36",
   "metadata": {},
   "source": [
    "O código acima vai imprimir os valores das variáveis usando o princípio da **Interpolação**, com destaque para formatação na variável \"media\", que irá imprimir números com no máximo duas casa decimais.\n",
    "\n",
    "---"
   ]
  },
  {
   "cell_type": "code",
   "execution_count": null,
   "id": "caf96716-f381-4a68-9159-d7c5f12eb492",
   "metadata": {},
   "outputs": [],
   "source": []
  }
 ],
 "metadata": {
  "kernelspec": {
   "display_name": ".NET (C#)",
   "language": "C#",
   "name": ".net-csharp"
  },
  "language_info": {
   "file_extension": ".cs",
   "mimetype": "text/x-csharp",
   "name": "C#",
   "pygments_lexer": "csharp",
   "version": "12.0"
  }
 },
 "nbformat": 4,
 "nbformat_minor": 5
}
